{
 "cells": [
  {
   "cell_type": "markdown",
   "metadata": {},
   "source": [
    "# 01 - Hello World\n",
    "\n",
    "Introductions to most programming languages are traditionally started by outputting a variation of `Hello World`. The `print()` function prints the specified message to the screen, or other standard output device.\n",
    "\n",
    "### Task\n",
    "Use the built-in `print()` function to print the string `Hello World` on your screen. A string is a sequence of characters. In Python, strings are enclosed within single quotes ('text') or double-quotes (\"text\"). Both of these are considered as strings by the interpreter\n",
    "\n",
    "You can run the line of code with `SHIFT + ENTER`."
   ]
  },
  {
   "cell_type": "code",
   "execution_count": 5,
   "metadata": {},
   "outputs": [
    {
     "name": "stdout",
     "output_type": "stream",
     "text": [
      "Christina is lovely\n"
     ]
    }
   ],
   "source": [
    "print(\"Christina is lovely\")"
   ]
  },
  {
   "cell_type": "markdown",
   "metadata": {},
   "source": [
    "## Congratulations 🎉\n",
    "\n",
    "you just wrote and executed your first python program!"
   ]
  },
  {
   "cell_type": "markdown",
   "metadata": {},
   "source": [
    "### Exercise\n",
    "\n",
    "* Print your own message\n",
    "#### Tips:\n",
    "* Python has excellent documentation for their functions and statements. You can view this by pressing `SHIFT + TAB`. Pressing it more than once will cycle through levels of verbosity\n",
    "* Codewords recognized by python will get highlighted in a different color"
   ]
  },
  {
   "cell_type": "code",
   "execution_count": null,
   "metadata": {},
   "outputs": [],
   "source": []
  },
  {
   "cell_type": "markdown",
   "metadata": {},
   "source": [
    "## Find the bug"
   ]
  },
  {
   "cell_type": "code",
   "execution_count": 3,
   "metadata": {},
   "outputs": [
    {
     "name": "stdout",
     "output_type": "stream",
     "text": [
      "Hello World!\n"
     ]
    }
   ],
   "source": [
    "print('Hello World!')"
   ]
  },
  {
   "cell_type": "markdown",
   "metadata": {},
   "source": [
    "Python is often very good at telling you how to solve errors. In older versions of python you would write\n",
    "\n",
    "`print 'message'`\n",
    "\n",
    "This is however not valid anymore, as print is now a function. Functions need parentheses when called.\n",
    "Add the parenthesis and run the line above again."
   ]
  },
  {
   "cell_type": "markdown",
   "metadata": {},
   "source": [
    "# How to work with Jupyter Notebooks\n",
    "Important to know: How can you run a line of code? How can you add a new cell? How can you delete a cell? How can you add a \"text-cell\"?\n",
    "\n",
    "One  thing you may have observed when running your cells is that their border turns blue, whereas it was green while you were editing. \n",
    "\n",
    "* Green outline: cell is in `edit mode`\n",
    "* Blue outline: cell is in `command mode`\n",
    "\n",
    "### Exercise\n",
    "\n",
    "* Add a new cell: (i) Insert --> Insert cell Above/Below or (ii) press `a` `b` (cell has to be in the \"blue mode\")\n",
    "* Delete a cell: (i) Edit --> Delete cell or (ii) press two times `d` (cell has to be in the \"blue mode\")\n",
    "* Aadd a new \"text cell\": Change from `Code`to `Markdown` - add a text including a headline and bullet points. Run the cell.\n",
    "* Customize your notebook: Add your comments --> add \"text cells\" between the tasks/exercies (e.g. dont forget to use brackets if you want to print a text....or ... check color or the outline (green vs blue).... ). "
   ]
  },
  {
   "cell_type": "markdown",
   "metadata": {},
   "source": [
    "blalbalbalbl "
   ]
  },
  {
   "cell_type": "code",
   "execution_count": null,
   "metadata": {},
   "outputs": [],
   "source": []
  },
  {
   "cell_type": "code",
   "execution_count": null,
   "metadata": {},
   "outputs": [],
   "source": []
  },
  {
   "cell_type": "code",
   "execution_count": null,
   "metadata": {},
   "outputs": [],
   "source": []
  },
  {
   "cell_type": "code",
   "execution_count": null,
   "metadata": {},
   "outputs": [],
   "source": []
  }
 ],
 "metadata": {
  "kernelspec": {
   "display_name": "Python 3",
   "language": "python",
   "name": "python3"
  },
  "language_info": {
   "codemirror_mode": {
    "name": "ipython",
    "version": 3
   },
   "file_extension": ".py",
   "mimetype": "text/x-python",
   "name": "python",
   "nbconvert_exporter": "python",
   "pygments_lexer": "ipython3",
   "version": "3.8.3"
  }
 },
 "nbformat": 4,
 "nbformat_minor": 2
}
